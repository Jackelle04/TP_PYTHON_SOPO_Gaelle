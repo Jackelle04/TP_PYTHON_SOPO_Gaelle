{
 "cells": [
  {
   "cell_type": "markdown",
   "id": "9ddaa18d",
   "metadata": {},
   "source": [
    "# Exercice 1"
   ]
  },
  {
   "cell_type": "code",
   "execution_count": 1,
   "id": "37e61995",
   "metadata": {},
   "outputs": [
    {
     "name": "stdout",
     "output_type": "stream",
     "text": [
      "Veuillez saisir votre nom : Gaelle\n",
      "Bienvenue, Gaelle!\n"
     ]
    }
   ],
   "source": [
    "nom = str(input(\"Veuillez saisir votre nom : \"))\n",
    "print(f\"Bienvenue, {nom}!\")"
   ]
  },
  {
   "cell_type": "markdown",
   "id": "2aa52f74",
   "metadata": {},
   "source": [
    "## Exercice 2"
   ]
  },
  {
   "cell_type": "code",
   "execution_count": 2,
   "id": "e3416b11",
   "metadata": {},
   "outputs": [
    {
     "name": "stdout",
     "output_type": "stream",
     "text": [
      "Saisir le premier nombre : aa\n",
      "Veuillez entrer un nombre valide.\n",
      "Saisir le premier nombre : 12\n",
      "Saisir le second nombre : 15\n",
      "La somme de 12.0 et 15.0 est : 27.0\n"
     ]
    }
   ],
   "source": [
    "while True:\n",
    "    try:\n",
    "        a = float(input(\"Saisir le premier nombre : \"))\n",
    "        b = float(input(\"Saisir le second nombre : \"))\n",
    "        print(f\"La somme de {a} et {b} est : {a + b}\")\n",
    "        break\n",
    "    except ValueError:\n",
    "        print(\"Veuillez entrer un nombre valide.\")\n",
    "    "
   ]
  },
  {
   "cell_type": "markdown",
   "id": "2b7a2788",
   "metadata": {},
   "source": [
    "## Exercice 3"
   ]
  },
  {
   "cell_type": "code",
   "execution_count": 3,
   "id": "ecec6d4c",
   "metadata": {},
   "outputs": [
    {
     "name": "stdout",
     "output_type": "stream",
     "text": [
      "Saisir le premier nombre : SD\n",
      "Veuillez entrer un nombre valide.\n",
      "Saisir le premier nombre : 12\n",
      "Saisir le second nombre : 18\n",
      "Le maximum entre 12.0 et 18.0 est : 18.0\n"
     ]
    }
   ],
   "source": [
    "while True:\n",
    "    try:\n",
    "        a = float(input(\"Saisir le premier nombre : \"))\n",
    "        b = float(input(\"Saisir le second nombre : \"))\n",
    "        print(f\"Le maximum entre {a} et {b} est : {max(a, b)}\")\n",
    "        break\n",
    "    except ValueError:\n",
    "        print(\"Veuillez entrer un nombre valide.\")"
   ]
  },
  {
   "cell_type": "markdown",
   "id": "f638d80b",
   "metadata": {},
   "source": [
    "## Exercice 4"
   ]
  },
  {
   "cell_type": "code",
   "execution_count": 6,
   "id": "f84cfc71",
   "metadata": {},
   "outputs": [
    {
     "name": "stdout",
     "output_type": "stream",
     "text": [
      "0\n",
      "1\n",
      "2\n",
      "3\n",
      "4\n",
      "5\n",
      "6\n",
      "7\n",
      "8\n",
      "9\n",
      "10\n",
      "11\n",
      "12\n",
      "13\n",
      "14\n",
      "15\n",
      "16\n",
      "17\n",
      "18\n",
      "19\n",
      "20\n",
      "21\n",
      "22\n",
      "23\n",
      "24\n",
      "25\n",
      "26\n",
      "27\n",
      "28\n",
      "29\n",
      "30\n",
      "31\n",
      "32\n",
      "33\n",
      "34\n",
      "35\n",
      "36\n",
      "37\n",
      "38\n",
      "39\n",
      "40\n",
      "41\n",
      "42\n",
      "43\n",
      "44\n",
      "45\n",
      "46\n",
      "47\n",
      "48\n",
      "49\n",
      "50\n",
      "51\n",
      "52\n",
      "53\n",
      "54\n",
      "55\n",
      "56\n",
      "57\n",
      "58\n",
      "59\n",
      "60\n",
      "61\n",
      "62\n",
      "63\n",
      "64\n",
      "65\n",
      "66\n",
      "67\n",
      "68\n",
      "69\n",
      "70\n",
      "71\n",
      "72\n",
      "73\n",
      "74\n",
      "75\n",
      "76\n",
      "77\n",
      "78\n",
      "79\n",
      "80\n",
      "81\n",
      "82\n",
      "83\n",
      "84\n",
      "85\n",
      "86\n",
      "87\n",
      "88\n",
      "89\n",
      "90\n",
      "91\n",
      "92\n",
      "93\n",
      "94\n",
      "95\n",
      "96\n",
      "97\n",
      "98\n",
      "99\n"
     ]
    }
   ],
   "source": [
    "for i in range(0, 100):\n",
    "    print(i)"
   ]
  },
  {
   "cell_type": "markdown",
   "id": "483d9797",
   "metadata": {},
   "source": [
    "## Exercice 5"
   ]
  },
  {
   "cell_type": "code",
   "execution_count": 3,
   "id": "6eef7d6d",
   "metadata": {},
   "outputs": [
    {
     "name": "stdout",
     "output_type": "stream",
     "text": [
      "Saisir un nombre entier : 7\n",
      "Le nombre est impair\n"
     ]
    }
   ],
   "source": [
    "while True:\n",
    "    try:\n",
    "        n = int(input(\"Saisir un nombre entier : \"))\n",
    "        if n % 2 == 0:\n",
    "            print(\"Le nombre est pair\")\n",
    "        else:\n",
    "            print(\"Le nombre est impair\")\n",
    "        break\n",
    "    except ValueError:\n",
    "        print(\"Veuillez entrer un nombre valide.\")"
   ]
  },
  {
   "cell_type": "markdown",
   "id": "a2d78feb",
   "metadata": {},
   "source": [
    "## Exercice 6"
   ]
  },
  {
   "cell_type": "code",
   "execution_count": 175,
   "id": "a9b80f9a",
   "metadata": {},
   "outputs": [
    {
     "name": "stdout",
     "output_type": "stream",
     "text": [
      "Saisir votre âge : -12\n",
      "La valeur de l'age doit etre positive\n",
      "Saisir votre âge : 12\n",
      "Vous êtes mineur!\n"
     ]
    }
   ],
   "source": [
    "while True:\n",
    "    try:\n",
    "        age = int(input(\"Saisir votre âge : \"))\n",
    "        if age >=0:\n",
    "            if age >= 18:\n",
    "                print(\"Vous êtes majeur!\")\n",
    "            else:\n",
    "                print(\"Vous êtes mineur!\")\n",
    "            break\n",
    "        else:\n",
    "            print(\"La valeur de l'age doit etre positive\")\n",
    "    except ValueError:\n",
    "        print(\"Veuillez entrer un nombre valide.\")"
   ]
  },
  {
   "cell_type": "markdown",
   "id": "5515e591",
   "metadata": {},
   "source": [
    "## Exercice 7"
   ]
  },
  {
   "cell_type": "code",
   "execution_count": 5,
   "id": "3a908691",
   "metadata": {},
   "outputs": [
    {
     "name": "stdout",
     "output_type": "stream",
     "text": [
      "Saisir le premier nombre : sa\n",
      "Veuillez entrer un nombre valide.\n",
      "Saisir le premier nombre : 12\n",
      "Saisir le second nombre : 14.1\n",
      "Saisir le troisième nombre : -5\n",
      "Le maximum entre de ces nombres est : 14.1\n"
     ]
    }
   ],
   "source": [
    "while True:\n",
    "    try:\n",
    "        x = float(input(\"Saisir le premier nombre : \"))\n",
    "        y = float(input(\"Saisir le second nombre : \"))\n",
    "        z = float(input(\"Saisir le troisième nombre : \"))\n",
    "        print(f\"Le maximum entre de ces nombres est : {max(x, y, z)}\")\n",
    "        break\n",
    "    except ValueError:\n",
    "        print(\"Veuillez entrer un nombre valide.\")"
   ]
  },
  {
   "cell_type": "markdown",
   "id": "0d8c3253",
   "metadata": {},
   "source": [
    "## Exercice 8"
   ]
  },
  {
   "cell_type": "code",
   "execution_count": 176,
   "id": "d7caf265",
   "metadata": {},
   "outputs": [
    {
     "name": "stdout",
     "output_type": "stream",
     "text": [
      "Saisir un nombre entier n : -2\n",
      "Saisir un nombre superieur à 0\n",
      "Saisir un nombre entier n : 6\n",
      "La somme des entiers de 1 à 6 est : 21\n"
     ]
    }
   ],
   "source": [
    "while True:\n",
    "    try:\n",
    "        n = int(input(\"Saisir un nombre entier n : \"))\n",
    "        if n>0:\n",
    "            somme = sum(range(1, n + 1))\n",
    "            print(f\"La somme des entiers de 1 à {n} est : {somme}\")\n",
    "            break\n",
    "        else:\n",
    "            print(\"Saisir un nombre superieur à 0\")\n",
    "    except ValueError:\n",
    "        print(\"Veuillez entrer un nombre valide.\")"
   ]
  },
  {
   "cell_type": "markdown",
   "id": "c6ecd904",
   "metadata": {},
   "source": [
    "## Exercice 9"
   ]
  },
  {
   "cell_type": "code",
   "execution_count": 177,
   "id": "6c39565a",
   "metadata": {},
   "outputs": [
    {
     "name": "stdout",
     "output_type": "stream",
     "text": [
      "Saisir un nombre entier n : -5\n",
      "Saisir un nombre superieur à 0\n",
      "Saisir un nombre entier n : 5\n",
      "Le factoriel de 5 est : 120\n"
     ]
    }
   ],
   "source": [
    "import math\n",
    "while True:\n",
    "    try:\n",
    "        n = int(input(\"Saisir un nombre entier n : \"))\n",
    "        if n>0:\n",
    "            print(f\"Le factoriel de {n} est : {math.factorial(n)}\")\n",
    "            break\n",
    "        else:\n",
    "            print(\"Saisir un nombre superieur à 0\")\n",
    "    except ValueError:\n",
    "        print(\"Veuillez entrer un nombre valide.\")"
   ]
  },
  {
   "cell_type": "markdown",
   "id": "920dbe4e",
   "metadata": {},
   "source": [
    "## Exercice 10"
   ]
  },
  {
   "cell_type": "code",
   "execution_count": 9,
   "id": "2463ab1d",
   "metadata": {},
   "outputs": [
    {
     "name": "stdout",
     "output_type": "stream",
     "text": [
      "Saisir le rayon d'un cercle : d\n",
      "Veuillez entrer un nombre valide.\n",
      "Saisir le rayon d'un cercle : 4\n",
      "La surface de ce cercle est de : 50.26548245743669, et son périmètre de : 25.132741228718345\n"
     ]
    }
   ],
   "source": [
    "import math\n",
    "while True:\n",
    "    try:\n",
    "        r = float(input(\"Saisir le rayon d'un cercle : \"))\n",
    "        surface = math.pi * r ** 2\n",
    "        perimetre = 2 * math.pi * r\n",
    "        print(f\"La surface de ce cercle est de : {surface}, et son périmètre de : {perimetre}\")\n",
    "        break\n",
    "    except ValueError:\n",
    "        print(\"Veuillez entrer un nombre valide.\")"
   ]
  },
  {
   "cell_type": "markdown",
   "id": "7a4f0769",
   "metadata": {},
   "source": [
    "## Exercice 11"
   ]
  },
  {
   "cell_type": "code",
   "execution_count": 179,
   "id": "d446d75b",
   "metadata": {},
   "outputs": [
    {
     "name": "stdout",
     "output_type": "stream",
     "text": [
      "Saisir un nombre entier n : -12\n",
      "Saisir un nombre positif\n",
      "Saisir un nombre entier n : 2\n",
      "Les diviseurs de 2 sont : [1, 2]\n"
     ]
    }
   ],
   "source": [
    "while True:\n",
    "    try:\n",
    "        n = int(input(\"Saisir un nombre entier n : \"))\n",
    "        if n>=0:\n",
    "            diviseurs = [i for i in range(1, n + 1) if n % i == 0]\n",
    "            print(f\"Les diviseurs de {n} sont : {diviseurs}\")\n",
    "            break\n",
    "        else:\n",
    "            print(\"Saisir un nombre positif\")\n",
    "    except ValueError:\n",
    "        print(\"Veuillez entrer un nombre valide.\")"
   ]
  },
  {
   "cell_type": "markdown",
   "id": "90f6076c",
   "metadata": {},
   "source": [
    "## Exercice 12"
   ]
  },
  {
   "cell_type": "code",
   "execution_count": 180,
   "id": "826cec49",
   "metadata": {},
   "outputs": [
    {
     "name": "stdout",
     "output_type": "stream",
     "text": [
      "Saisir un nombre entier n : à\n",
      "Veuillez entrer un nombre valide.\n",
      "Saisir un nombre entier n : 0\n",
      "Saisir un nombre superieur à 0\n",
      "Saisir un nombre entier n : 2\n",
      "\n",
      "Table de multiplication de 2:\n",
      "2 x 0 = 0\n",
      "2 x 1 = 2\n",
      "2 x 2 = 4\n",
      "2 x 3 = 6\n",
      "2 x 4 = 8\n",
      "2 x 5 = 10\n",
      "2 x 6 = 12\n",
      "2 x 7 = 14\n",
      "2 x 8 = 16\n",
      "2 x 9 = 18\n",
      "2 x 10 = 20\n",
      "2 x 11 = 22\n",
      "2 x 12 = 24\n",
      "\n",
      "Table de multiplication de 1:\n",
      "1 x 0 = 0\n",
      "1 x 1 = 1\n",
      "1 x 2 = 2\n",
      "1 x 3 = 3\n",
      "1 x 4 = 4\n",
      "1 x 5 = 5\n",
      "1 x 6 = 6\n",
      "1 x 7 = 7\n",
      "1 x 8 = 8\n",
      "1 x 9 = 9\n",
      "1 x 10 = 10\n",
      "1 x 11 = 11\n",
      "1 x 12 = 12\n",
      "\n",
      "Table de multiplication de 2:\n",
      "2 x 0 = 0\n",
      "2 x 1 = 2\n",
      "2 x 2 = 4\n",
      "2 x 3 = 6\n",
      "2 x 4 = 8\n",
      "2 x 5 = 10\n",
      "2 x 6 = 12\n",
      "2 x 7 = 14\n",
      "2 x 8 = 16\n",
      "2 x 9 = 18\n",
      "2 x 10 = 20\n",
      "2 x 11 = 22\n",
      "2 x 12 = 24\n",
      "\n",
      "Table de multiplication de 3:\n",
      "3 x 0 = 0\n",
      "3 x 1 = 3\n",
      "3 x 2 = 6\n",
      "3 x 3 = 9\n",
      "3 x 4 = 12\n",
      "3 x 5 = 15\n",
      "3 x 6 = 18\n",
      "3 x 7 = 21\n",
      "3 x 8 = 24\n",
      "3 x 9 = 27\n",
      "3 x 10 = 30\n",
      "3 x 11 = 33\n",
      "3 x 12 = 36\n",
      "\n",
      "Table de multiplication de 4:\n",
      "4 x 0 = 0\n",
      "4 x 1 = 4\n",
      "4 x 2 = 8\n",
      "4 x 3 = 12\n",
      "4 x 4 = 16\n",
      "4 x 5 = 20\n",
      "4 x 6 = 24\n",
      "4 x 7 = 28\n",
      "4 x 8 = 32\n",
      "4 x 9 = 36\n",
      "4 x 10 = 40\n",
      "4 x 11 = 44\n",
      "4 x 12 = 48\n",
      "\n",
      "Table de multiplication de 5:\n",
      "5 x 0 = 0\n",
      "5 x 1 = 5\n",
      "5 x 2 = 10\n",
      "5 x 3 = 15\n",
      "5 x 4 = 20\n",
      "5 x 5 = 25\n",
      "5 x 6 = 30\n",
      "5 x 7 = 35\n",
      "5 x 8 = 40\n",
      "5 x 9 = 45\n",
      "5 x 10 = 50\n",
      "5 x 11 = 55\n",
      "5 x 12 = 60\n",
      "\n",
      "Table de multiplication de 6:\n",
      "6 x 0 = 0\n",
      "6 x 1 = 6\n",
      "6 x 2 = 12\n",
      "6 x 3 = 18\n",
      "6 x 4 = 24\n",
      "6 x 5 = 30\n",
      "6 x 6 = 36\n",
      "6 x 7 = 42\n",
      "6 x 8 = 48\n",
      "6 x 9 = 54\n",
      "6 x 10 = 60\n",
      "6 x 11 = 66\n",
      "6 x 12 = 72\n",
      "\n",
      "Table de multiplication de 7:\n",
      "7 x 0 = 0\n",
      "7 x 1 = 7\n",
      "7 x 2 = 14\n",
      "7 x 3 = 21\n",
      "7 x 4 = 28\n",
      "7 x 5 = 35\n",
      "7 x 6 = 42\n",
      "7 x 7 = 49\n",
      "7 x 8 = 56\n",
      "7 x 9 = 63\n",
      "7 x 10 = 70\n",
      "7 x 11 = 77\n",
      "7 x 12 = 84\n",
      "\n",
      "Table de multiplication de 8:\n",
      "8 x 0 = 0\n",
      "8 x 1 = 8\n",
      "8 x 2 = 16\n",
      "8 x 3 = 24\n",
      "8 x 4 = 32\n",
      "8 x 5 = 40\n",
      "8 x 6 = 48\n",
      "8 x 7 = 56\n",
      "8 x 8 = 64\n",
      "8 x 9 = 72\n",
      "8 x 10 = 80\n",
      "8 x 11 = 88\n",
      "8 x 12 = 96\n",
      "\n",
      "Table de multiplication de 9:\n",
      "9 x 0 = 0\n",
      "9 x 1 = 9\n",
      "9 x 2 = 18\n",
      "9 x 3 = 27\n",
      "9 x 4 = 36\n",
      "9 x 5 = 45\n",
      "9 x 6 = 54\n",
      "9 x 7 = 63\n",
      "9 x 8 = 72\n",
      "9 x 9 = 81\n",
      "9 x 10 = 90\n",
      "9 x 11 = 99\n",
      "9 x 12 = 108\n"
     ]
    }
   ],
   "source": [
    "# Question 1\n",
    "while True:\n",
    "    try:\n",
    "        n = int(input(\"Saisir un nombre entier n : \"))\n",
    "        if n>0:\n",
    "            break\n",
    "        else:\n",
    "            print(\"Saisir un nombre superieur à 0\")\n",
    "    except ValueError:\n",
    "        print(\"Veuillez entrer un nombre valide.\")\n",
    "print(f\"\\nTable de multiplication de {n}:\")\n",
    "for i in range(0, 13):\n",
    "    print(f\"{n} x {i} = {n * i}\")\n",
    "\n",
    "\n",
    "# question 2\n",
    "for n in range(1, 10):\n",
    "    print(f\"\\nTable de multiplication de {n}:\")\n",
    "    for i in range(0, 13):\n",
    "        print(f\"{n} x {i} = {n * i}\")"
   ]
  },
  {
   "cell_type": "markdown",
   "id": "64a86575",
   "metadata": {},
   "source": [
    "## Exercice 13"
   ]
  },
  {
   "cell_type": "code",
   "execution_count": 183,
   "id": "fbcc359a",
   "metadata": {},
   "outputs": [
    {
     "name": "stdout",
     "output_type": "stream",
     "text": [
      "Saisir un nombre entier a : -15\n",
      "Saisir un nombre entier b different de 0 : 2\n",
      "Le quotient est -8 et le reste est 1\n"
     ]
    }
   ],
   "source": [
    "while True:\n",
    "    try:\n",
    "        a = int(input(\"Saisir un nombre entier a : \"))\n",
    "        b = int(input(\"Saisir un nombre entier b different de 0 : \"))\n",
    "        if b>0:\n",
    "            break\n",
    "        else:\n",
    "            print(\"Le nombre entier b doit etre non nul\")\n",
    "    except ValueError:\n",
    "        print(\"Veuillez entrer un nombre valide.\")\n",
    "quotient, reste = divmod(a, b)\n",
    "print(f\"Le quotient est {quotient} et le reste est {reste}\")\n",
    "        "
   ]
  },
  {
   "cell_type": "markdown",
   "id": "f66a45dd",
   "metadata": {},
   "source": [
    "## Exercice 14"
   ]
  },
  {
   "cell_type": "code",
   "execution_count": 184,
   "id": "3bbdddc3",
   "metadata": {},
   "outputs": [
    {
     "name": "stdout",
     "output_type": "stream",
     "text": [
      "Saisir un nombre entier n : -5\n",
      "Le nombre entier b doit etre positif\n",
      "Saisir un nombre entier n : 5\n",
      "5 n'est pas un carré parfait\n"
     ]
    }
   ],
   "source": [
    "import math\n",
    "while True:\n",
    "    try:\n",
    "        n = int(input(\"Saisir un nombre entier n : \"))\n",
    "        if n>=0:\n",
    "            if math.isqrt(n) ** 2 == n:\n",
    "                print(f\"{n} est un carré parfait\")\n",
    "            else:\n",
    "                print(f\"{n} n'est pas un carré parfait\")\n",
    "            break\n",
    "        else:\n",
    "            print(\"Le nombre entier b doit etre positif\")\n",
    "    except ValueError:\n",
    "        print(\"Veuillez entrer un nombre valide.\")"
   ]
  },
  {
   "cell_type": "markdown",
   "id": "0b0d4def",
   "metadata": {},
   "source": [
    "## Exercice 15"
   ]
  },
  {
   "cell_type": "code",
   "execution_count": 185,
   "id": "f86e3427",
   "metadata": {},
   "outputs": [
    {
     "name": "stdout",
     "output_type": "stream",
     "text": [
      "Saisir un nombre entier n : -5\n",
      "-5 n'est pas un nombre premier\n"
     ]
    }
   ],
   "source": [
    "import math\n",
    "\n",
    "while True:\n",
    "    try:\n",
    "        n = int(input(\"Saisir un nombre entier n : \"))\n",
    "        if n > 1 and all(n % i != 0 for i in range(2, int(math.sqrt(n)) + 1)):\n",
    "            print(f\"{n} est un nombre premier\")\n",
    "        else:\n",
    "            print(f\"{n} n'est pas un nombre premier\")\n",
    "        break\n",
    "    except ValueError:\n",
    "        print(\"Veuillez entrer un nombre valide.\")"
   ]
  },
  {
   "cell_type": "markdown",
   "id": "dc5d2901",
   "metadata": {},
   "source": [
    "## Exercice 16"
   ]
  },
  {
   "cell_type": "code",
   "execution_count": 17,
   "id": "618d4f93",
   "metadata": {},
   "outputs": [
    {
     "name": "stdout",
     "output_type": "stream",
     "text": [
      "Veuillez entrer une chaine de caracteresJe suis\n",
      "J\n",
      "e\n",
      " \n",
      "s\n",
      "u\n",
      "i\n",
      "s\n"
     ]
    }
   ],
   "source": [
    "var = str(input(\"Veuillez entrer une chaine de caractères : \"))  \n",
    "for char in var:\n",
    "    print(char)"
   ]
  },
  {
   "cell_type": "markdown",
   "id": "bd809da2",
   "metadata": {},
   "source": [
    "## Exercice 17"
   ]
  },
  {
   "cell_type": "code",
   "execution_count": 37,
   "id": "7814bbf7",
   "metadata": {},
   "outputs": [
    {
     "name": "stdout",
     "output_type": "stream",
     "text": [
      "Veuillez entrer une chaine de caractères : JE jouis\n",
      "Le caractère : 'j' figure 2 fois dans la chaine var.\n",
      "Le caractère : 'e' figure 1 fois dans la chaine var.\n",
      "Le caractère : ' ' figure 1 fois dans la chaine var.\n",
      "Le caractère : 'o' figure 1 fois dans la chaine var.\n",
      "Le caractère : 'u' figure 1 fois dans la chaine var.\n",
      "Le caractère : 'i' figure 1 fois dans la chaine var.\n",
      "Le caractère : 's' figure 1 fois dans la chaine var.\n"
     ]
    }
   ],
   "source": [
    "var = str(input(\"Veuillez entrer une chaine de caractères : \"))\n",
    "occurrences = {}\n",
    "for char in var.lower():\n",
    "    occurrences[char] = occurrences.get(char, 0) + 1\n",
    "for char, count in occurrences.items():\n",
    "    print(f\"Le caractère : '{char}' figure {count} fois dans la chaine var.\")"
   ]
  },
  {
   "cell_type": "markdown",
   "id": "83f17c33",
   "metadata": {},
   "source": [
    "## Exercice 18"
   ]
  },
  {
   "cell_type": "code",
   "execution_count": 38,
   "id": "d82756dd",
   "metadata": {},
   "outputs": [
    {
     "name": "stdout",
     "output_type": "stream",
     "text": [
      "Veuillez entrer une chaine de caractères : GARDE\n",
      "La lettre 'a' se trouve à la position : 1\n"
     ]
    }
   ],
   "source": [
    "s = str(input(\"Veuillez entrer une chaine de caractères : \"))\n",
    "positions = [i for i, char in enumerate(s.lower()) if char == 'a']\n",
    "if positions:\n",
    "    for position in positions:\n",
    "        print(f\"La lettre 'a' se trouve à la position : {position}\")\n",
    "else:\n",
    "    print(\"La lettre 'a' n'apparait pas dans la chaine.\")"
   ]
  },
  {
   "cell_type": "markdown",
   "id": "2942dc36",
   "metadata": {},
   "source": [
    "## Exercice 19"
   ]
  },
  {
   "cell_type": "code",
   "execution_count": 29,
   "id": "f71885f5",
   "metadata": {},
   "outputs": [
    {
     "name": "stdout",
     "output_type": "stream",
     "text": [
      "Liste des éléments qui composent la liste l : \n",
      "laptop avec une longueur de : 6\n",
      "iphone avec une longueur de : 6\n",
      "tablet avec une longueur de : 6\n"
     ]
    }
   ],
   "source": [
    "l = [\"laptop\", \"iphone\", \"tablet\"]\n",
    "print(\"Liste des éléments qui composent la liste l : \")\n",
    "for element in l:\n",
    "    print(f\"{element} avec une longueur de : {len(element)}\")"
   ]
  },
  {
   "cell_type": "markdown",
   "id": "be99b0fa",
   "metadata": {},
   "source": [
    "## Exercice 20"
   ]
  },
  {
   "cell_type": "code",
   "execution_count": 32,
   "id": "23fc1775",
   "metadata": {},
   "outputs": [
    {
     "name": "stdout",
     "output_type": "stream",
     "text": [
      "Veuillez entrer une chaine de caractères : e\n",
      "Le résultat est : e\n"
     ]
    }
   ],
   "source": [
    "s = str(input(\"Veuillez entrer une chaine de caractères : \"))\n",
    "if len(s) > 1:\n",
    "    s = s[-1] + s[1:-1] + s[0]  \n",
    "else:\n",
    "    s\n",
    "print(\"Le résultat est :\", s)"
   ]
  },
  {
   "cell_type": "markdown",
   "id": "ecf300f4",
   "metadata": {},
   "source": [
    "## Exercice 21"
   ]
  },
  {
   "cell_type": "code",
   "execution_count": 39,
   "id": "44be4bca",
   "metadata": {},
   "outputs": [
    {
     "name": "stdout",
     "output_type": "stream",
     "text": [
      "Veuillez entrer une chaine de caractères : JE SUIS\n",
      "La chaine JE SUIS possède 3 voyelles.\n"
     ]
    }
   ],
   "source": [
    "s = str(input(\"Veuillez entrer une chaine de caractères : \"))\n",
    "voyelles = \"aeiouy\"\n",
    "nb_voyelles = sum(1 for char in s.lower() if char in voyelles)\n",
    "print(f\"La chaine {s} possède {nb_voyelles} voyelles.\")"
   ]
  },
  {
   "cell_type": "markdown",
   "id": "47456755",
   "metadata": {},
   "source": [
    "## Exercice 22"
   ]
  },
  {
   "cell_type": "code",
   "execution_count": 40,
   "id": "3e45d9f1",
   "metadata": {},
   "outputs": [
    {
     "name": "stdout",
     "output_type": "stream",
     "text": [
      "Veuillez entrer une chaine de caractères : Je t'aime\n",
      "Le premier mot est : Je\n"
     ]
    }
   ],
   "source": [
    "s = str(input(\"Veuillez entrer une chaine de caractères : \"))\n",
    "print(\"Le premier mot est :\", s.split()[0])"
   ]
  },
  {
   "cell_type": "markdown",
   "id": "9a27d31d",
   "metadata": {},
   "source": [
    "## Exercice 23"
   ]
  },
  {
   "cell_type": "code",
   "execution_count": 41,
   "id": "b53e74e0",
   "metadata": {},
   "outputs": [
    {
     "name": "stdout",
     "output_type": "stream",
     "text": [
      "Saisir le nom d'un fichier : gaelle.doc\n",
      "L'extension du fichier est : .doc\n"
     ]
    }
   ],
   "source": [
    "fichier = input(\"Saisir le nom d'un fichier : \")\n",
    "extension = fichier.split('.')[-1]\n",
    "print(f\"L'extension du fichier est : .{extension}\")"
   ]
  },
  {
   "cell_type": "markdown",
   "id": "ea9cf361",
   "metadata": {},
   "source": [
    "## Exercice 24"
   ]
  },
  {
   "cell_type": "code",
   "execution_count": 44,
   "id": "077814ff",
   "metadata": {},
   "outputs": [
    {
     "name": "stdout",
     "output_type": "stream",
     "text": [
      "Saisir un mot : laval\n",
      "'laval' est un palindrome\n"
     ]
    }
   ],
   "source": [
    "mot = str(input(\"Saisir un mot : \"))\n",
    "if mot == mot[::-1]:\n",
    "    print(f\"'{mot}' est un palindrome\")\n",
    "else:\n",
    "    print(f\"'{mot}' n'est pas un palindrome\")"
   ]
  },
  {
   "cell_type": "markdown",
   "id": "b98186c3",
   "metadata": {},
   "source": [
    "## Exercice 25"
   ]
  },
  {
   "cell_type": "code",
   "execution_count": 47,
   "id": "111b80fd",
   "metadata": {},
   "outputs": [
    {
     "name": "stdout",
     "output_type": "stream",
     "text": [
      "Saisir un mot : dur\n",
      "L'inverse du mot 'dur' est : rud\n"
     ]
    }
   ],
   "source": [
    "mot = str(input(\"Saisir un mot : \"))\n",
    "print(f\"L'inverse du mot '{mot}' est :\", mot[::-1])"
   ]
  },
  {
   "cell_type": "markdown",
   "id": "cc7c06d2",
   "metadata": {},
   "source": [
    "## Exercice 26"
   ]
  },
  {
   "cell_type": "code",
   "execution_count": 49,
   "id": "5d76cd37",
   "metadata": {},
   "outputs": [
    {
     "name": "stdout",
     "output_type": "stream",
     "text": [
      "Saisir un texte : Abel alla manger du riz\n",
      "Tous les mots commençant par 'a' de ce texte sont : ['alla']\n"
     ]
    }
   ],
   "source": [
    "texte = input(\"Saisir un texte : \")\n",
    "mots = [mot for mot in texte.lower().split() if mot.startswith('a')]\n",
    "print(\"Tous les mots commençant par 'a' de ce texte sont :\", mots)"
   ]
  },
  {
   "cell_type": "markdown",
   "id": "10889eb4",
   "metadata": {},
   "source": [
    "## Exercice 27"
   ]
  },
  {
   "cell_type": "code",
   "execution_count": 186,
   "id": "d1d31ae9",
   "metadata": {},
   "outputs": [
    {
     "name": "stdout",
     "output_type": "stream",
     "text": [
      "Combien d'éléments compte la liste ? 2\n",
      "Entrez un nombre : 12\n",
      "Entrez un nombre : -4\n",
      "La somme des nombres de cette liste est :  8.0\n",
      "Combien d'éléments compte la liste ? -2\n",
      "Saisir un nombre entier positif\n",
      "Combien d'éléments compte la liste ? 2\n",
      "Entrez un nombre : 12\n",
      "Entrez un nombre : 2\n",
      "Le produit des nombres de cette liste est :  24.0\n"
     ]
    }
   ],
   "source": [
    "def somme_liste():\n",
    "    while True:\n",
    "        try:\n",
    "            n = int(input(\"Combien d'éléments compte la liste ? \"))\n",
    "            if n>0:\n",
    "                liste_nombre=[]\n",
    "                for i in range(n):\n",
    "                    nombre = float(input(\"Entrez un nombre : \"))\n",
    "                    liste_nombre.append(nombre)\n",
    "                    somme=sum(liste_nombre)\n",
    "                break\n",
    "            else:\n",
    "                print(\"Saisir un nombre entier positif\")\n",
    "        except ValueError:\n",
    "            print (\"Entrez une saisie valide\")\n",
    "    \n",
    "    print(\"La somme des nombres de cette liste est : \", somme)\n",
    "\n",
    "\n",
    "\n",
    "def produit_liste():\n",
    "    while True:\n",
    "        try:\n",
    "            n = int(input(\"Combien d'éléments compte la liste ? \"))\n",
    "            if n>0:\n",
    "                liste_nombre=[]\n",
    "                produit=1\n",
    "                for i in range(n):\n",
    "                    nombre = float(input(\"Entrez un nombre : \"))\n",
    "                    liste_nombre.append(nombre)\n",
    "                    produit*=nombre\n",
    "                break\n",
    "            else:\n",
    "                print(\"Saisir un nombre entier positif\")\n",
    "        except ValueError:\n",
    "            print (\"Entrez une saisie valide\")\n",
    "    \n",
    "    print(\"Le produit des nombres de cette liste est : \", produit)\n",
    "\n",
    "\n",
    "somme_liste()\n",
    "produit_liste()\n"
   ]
  },
  {
   "cell_type": "markdown",
   "id": "3d862099",
   "metadata": {},
   "source": [
    "## Exercice 28"
   ]
  },
  {
   "cell_type": "code",
   "execution_count": 89,
   "id": "066b70e1",
   "metadata": {},
   "outputs": [
    {
     "name": "stdout",
     "output_type": "stream",
     "text": [
      "Saisir une chaine de caractères : ul\n",
      "La chaine entrée n'est pas vide\n"
     ]
    }
   ],
   "source": [
    "#cas d'une liste\n",
    "def liste_vide():\n",
    "    liste=[]\n",
    "    while True:\n",
    "        try:\n",
    "            n = int(input(\"Combien d'éléments compte la liste ? \"))\n",
    "            if n>=0:\n",
    "                for i in range(n):\n",
    "                    element = str(input(\"Entrez un élément : \"))\n",
    "                    liste.append(element)\n",
    "                break\n",
    "            else:\n",
    "                print(\"Saisir un nombre entier positif\")\n",
    "        except ValueError:\n",
    "            print (\"Entrez une saisie valide\")\n",
    "    if len(liste)==0:\n",
    "        print(\"La liste entrée est vide\")\n",
    "    else:\n",
    "        print(\"La liste entrée n'est pas vide\")\n",
    "    \n",
    "#cas d'une chaine\n",
    "def chaine_vide():\n",
    "    chaine=str(input(\"Saisir une chaine de caractères : \"))\n",
    "    if len(chaine)==0:\n",
    "        print(\"La chaine entrée est vide\")\n",
    "    else:\n",
    "        print(\"La chaine entrée n'est pas vide\")\n",
    "        \n",
    "#liste_vide()\n",
    "chaine_vide()"
   ]
  },
  {
   "cell_type": "markdown",
   "id": "8088181c",
   "metadata": {},
   "source": [
    "## Exercice 29"
   ]
  },
  {
   "cell_type": "code",
   "execution_count": 106,
   "id": "8bb10f58",
   "metadata": {},
   "outputs": [
    {
     "name": "stdout",
     "output_type": "stream",
     "text": [
      "Combien d'éléments compte la liste ? 4\n",
      "Entrez un élément : Gaelle\n",
      "Entrez un élément : gaelle\n",
      "Entrez un élément : 2\n",
      "Entrez un élément : 55\n",
      "La liste sans doublons est :  ['gaelle', '2', '55']\n"
     ]
    }
   ],
   "source": [
    "liste=[]\n",
    "while True:\n",
    "    try:\n",
    "        n = int(input(\"Combien d'éléments compte la liste ? \"))\n",
    "        if n>=0:\n",
    "            for i in range(n):\n",
    "                element = str(input(\"Entrez un élément : \"))\n",
    "                liste.append(element.lower())\n",
    "            break\n",
    "        else:\n",
    "                print(\"Saisir un nombre entier positif\")\n",
    "    except ValueError:\n",
    "        print (\"Entrez une saisie valide\")\n",
    "sortie=[]\n",
    "for element in liste:\n",
    "    if element not in sortie:\n",
    "        sortie.append(element)\n",
    "print(\"La liste sans doublons est : \", sortie)\n"
   ]
  },
  {
   "cell_type": "markdown",
   "id": "ba8ded14",
   "metadata": {},
   "source": [
    "## Exercice 30"
   ]
  },
  {
   "cell_type": "code",
   "execution_count": 211,
   "id": "4de57c8d",
   "metadata": {},
   "outputs": [
    {
     "name": "stdout",
     "output_type": "stream",
     "text": [
      "Combien d'éléments compte la liste 1 ? -1\n",
      "Saisir un nombre entier positif\n",
      "Combien d'éléments compte la liste 1 ? 1\n",
      "Entrez l'élément de la liste 1 : 2\n",
      "Combien d'éléments compte la liste 2 ? -1\n",
      "Saisir un nombre entier positif\n",
      "Combien d'éléments compte la liste 2 ? 1\n",
      "Entrez l'élément de la liste 2 : 1\n",
      "Les 2 listes n'ont aucune valeur commune\n"
     ]
    }
   ],
   "source": [
    "liste1=[]\n",
    "liste2=[]\n",
    "while True:\n",
    "    try:\n",
    "        n = int(input(\"Combien d'éléments compte la liste 1 ? \"))\n",
    "        if (n>=0):\n",
    "            for i in range(n):\n",
    "                element = str(input(\"Entrez l'élément de la liste 1 : \"))\n",
    "                liste1.append(element.lower())\n",
    "            break\n",
    "        else:\n",
    "            print(\"Saisir un nombre entier positif\")\n",
    "    except ValueError:\n",
    "        print (\"Entrez une saisie valide\")\n",
    "\n",
    "\n",
    "while True:\n",
    "    try:\n",
    "        b = int(input(\"Combien d'éléments compte la liste 2 ? \"))\n",
    "        if (b>=0):\n",
    "            for i in range(b):\n",
    "                element = str(input(\"Entrez l'élément de la liste 2 : \"))\n",
    "                liste2.append(element.lower())\n",
    "            break     \n",
    "        else:\n",
    "            print(\"Saisir un nombre entier positif\")\n",
    "\n",
    "    except ValueError:\n",
    "        print (\"Entrez une saisie valide\")\n",
    "\n",
    "if set(liste1)&set(liste2):\n",
    "    print(\"Les 2 listes ont au-moins une valeur commune\")\n",
    "else:\n",
    "    print(\"Les 2 listes n'ont aucune valeur commune\")"
   ]
  },
  {
   "cell_type": "markdown",
   "id": "aa66e990",
   "metadata": {},
   "source": [
    "## Exercice 31"
   ]
  },
  {
   "cell_type": "code",
   "execution_count": 212,
   "id": "1cb74e5b",
   "metadata": {},
   "outputs": [
    {
     "name": "stdout",
     "output_type": "stream",
     "text": [
      "Combien d'éléments compte la liste ? -1\n",
      "Saisir un nombre entier positif\n",
      "Combien d'éléments compte la liste ? 2\n",
      "Entrez un nombre : 1\n",
      "Entrez un nombre : 5\n",
      "La liste entrée est la suivante :  [1, 5]\n",
      "La liste des nombres pairs est la suivante :  []\n",
      "La liste des nombres impairs est la suivante :  [1, 5]\n"
     ]
    }
   ],
   "source": [
    "liste=[]\n",
    "pairs=[]\n",
    "impairs=[]\n",
    "while True:\n",
    "    try:\n",
    "        n = int(input(\"Combien d'éléments compte la liste ? \"))\n",
    "        if n>=0:\n",
    "            for i in range(n):\n",
    "                element = int(input(\"Entrez un nombre : \"))\n",
    "                liste.append(element)\n",
    "                if element%2==0:\n",
    "                    pairs.append(element)\n",
    "                else:\n",
    "                    impairs.append(element)\n",
    "            break\n",
    "        else:\n",
    "            print(\"Saisir un nombre entier positif\")\n",
    "    except ValueError:\n",
    "        print (\"Entrez une saisie valide\")\n",
    "print(\"La liste entrée est la suivante : \", liste)\n",
    "print(\"La liste des nombres pairs est la suivante : \", pairs)\n",
    "print(\"La liste des nombres impairs est la suivante : \", impairs)"
   ]
  },
  {
   "cell_type": "markdown",
   "id": "495aee77",
   "metadata": {},
   "source": [
    "## Exercice 32"
   ]
  },
  {
   "cell_type": "code",
   "execution_count": 129,
   "id": "6ab364e8",
   "metadata": {},
   "outputs": [
    {
     "name": "stdout",
     "output_type": "stream",
     "text": [
      "Combien d'éléments compte la liste ? 2\n",
      "Entrez un élément : loup\n",
      "Entrez un élément : chien\n",
      "Les listes obtenues par permutation des éléments de cette liste sont :  [('loup', 'chien'), ('chien', 'loup')]\n"
     ]
    }
   ],
   "source": [
    "from itertools import permutations\n",
    "liste=[]\n",
    "while True:\n",
    "    try:\n",
    "        n = int(input(\"Combien d'éléments compte la liste ? \"))\n",
    "        if n>=0:\n",
    "            for i in range(n):\n",
    "                element = (input(\"Entrez un élément : \"))\n",
    "                liste.append(element)\n",
    "            break\n",
    "        else:\n",
    "            print(\"Saisir un nombre entier positif\")\n",
    "    except ValueError:\n",
    "        print (\"Entrez une saisie valide\")\n",
    "print(\"Les listes obtenues par permutation des éléments de cette liste sont : \", list(permutations(liste)))\n"
   ]
  },
  {
   "cell_type": "markdown",
   "id": "402711a7",
   "metadata": {},
   "source": [
    "## Exercice 33"
   ]
  },
  {
   "cell_type": "code",
   "execution_count": 131,
   "id": "146f25c7",
   "metadata": {},
   "outputs": [
    {
     "name": "stdout",
     "output_type": "stream",
     "text": [
      "Saisir une chaine : je veux\n",
      "Les caractères d'indice pair sont : 'j ex'\n"
     ]
    }
   ],
   "source": [
    "s = input(\"Saisir une chaine : \")\n",
    "print(f\"Les caractères d'indice pair sont : '{s[::2]}'\")"
   ]
  },
  {
   "cell_type": "markdown",
   "id": "c66776b7",
   "metadata": {},
   "source": [
    "## Exercice 34"
   ]
  },
  {
   "cell_type": "code",
   "execution_count": 134,
   "id": "a3a36c1c",
   "metadata": {},
   "outputs": [
    {
     "name": "stdout",
     "output_type": "stream",
     "text": [
      "La liste des notes au-dessus de la moyenne est : [12, 14, 11, 18, 13, 10, 15, 14, 16]\n"
     ]
    }
   ],
   "source": [
    "notes = [12, 4, 14, 11, 18, 13, 7, 10, 5, 9, 15, 8, 14, 16]\n",
    "moyenne = [note for note in notes if note >= 10]\n",
    "print(\"La liste des notes au-dessus de la moyenne est :\", moyenne)"
   ]
  },
  {
   "cell_type": "markdown",
   "id": "779bcc77",
   "metadata": {},
   "source": [
    "## Exercice 35"
   ]
  },
  {
   "cell_type": "code",
   "execution_count": 141,
   "id": "53797a62",
   "metadata": {},
   "outputs": [
    {
     "name": "stdout",
     "output_type": "stream",
     "text": [
      "Saisir une URL : gaelle\n",
      "Le lien est :  http://gaelle\n"
     ]
    }
   ],
   "source": [
    "url = input(\"Saisir une URL : \")\n",
    "if not(url.startswith('http://') or url.startswith('https://')):\n",
    "    url='http://'+url\n",
    "print(\"Le lien est : \", url)"
   ]
  },
  {
   "cell_type": "markdown",
   "id": "016fa1ce",
   "metadata": {},
   "source": [
    "## Exercice 36"
   ]
  },
  {
   "cell_type": "code",
   "execution_count": 143,
   "id": "4f529513",
   "metadata": {},
   "outputs": [
    {
     "name": "stdout",
     "output_type": "stream",
     "text": [
      "Saisir une chaine avec espaces multiples : je      suis     belle\n",
      "Sans espaces multiples : je suis belle\n"
     ]
    }
   ],
   "source": [
    "s = input(\"Saisir une chaine avec espaces multiples : \")\n",
    "suppression_espaces_multiples = ' '.join(s.split())\n",
    "print(\"Sans espaces multiples :\", suppression_espaces_multiples)"
   ]
  },
  {
   "cell_type": "markdown",
   "id": "21e67412",
   "metadata": {},
   "source": [
    "## Exercice 37"
   ]
  },
  {
   "cell_type": "code",
   "execution_count": 145,
   "id": "f3de9e55",
   "metadata": {},
   "outputs": [
    {
     "name": "stdout",
     "output_type": "stream",
     "text": [
      "Entrer la première chaine : gre\n",
      "Entrer la seconde chaine : gre est\n",
      "La liste des mots communs est :  ['gre']\n"
     ]
    }
   ],
   "source": [
    "chaine1=input(\"Entrer la première chaine : \")\n",
    "chaine2=input(\"Entrer la seconde chaine : \")\n",
    "mots_communs=[]\n",
    "\n",
    "if set(texte1)&set(texte2):\n",
    "    mots1=set(chaine1.lower().split())\n",
    "    mots2=set(chaine2.lower().split())\n",
    "    mots_communs=list(mots1 & mots2)\n",
    "    print(\"La liste des mots communs est : \", mots_communs)\n",
    "else:\n",
    "    print(\"Les 2 textes n'ont aucun mot commun\")"
   ]
  },
  {
   "cell_type": "markdown",
   "id": "568b0866",
   "metadata": {},
   "source": [
    "## Exercice 38"
   ]
  },
  {
   "cell_type": "code",
   "execution_count": 146,
   "id": "44183b6b",
   "metadata": {},
   "outputs": [
    {
     "name": "stdout",
     "output_type": "stream",
     "text": [
      "Saisir une chaine : Je te veux toi encore plus\n",
      "Mot le plus long : encore\n"
     ]
    }
   ],
   "source": [
    "s = input(\"Saisir une chaine : \")\n",
    "mot_plus_long = max(s.split(), key=len)\n",
    "print(\"Le mot le plus long est :\", mot_plus_long)"
   ]
  },
  {
   "cell_type": "markdown",
   "id": "4f929958",
   "metadata": {},
   "source": [
    "## Exercice 39"
   ]
  },
  {
   "cell_type": "code",
   "execution_count": 147,
   "id": "2eae9832",
   "metadata": {},
   "outputs": [
    {
     "name": "stdout",
     "output_type": "stream",
     "text": [
      "Saisir une chaine : Je vous assure que je l'aime ! plus que tout, il est ma vie.\n",
      "Le nombre de mots de cette chaine est de : 14\n"
     ]
    }
   ],
   "source": [
    "s = input(\"Saisir une chaine : \")\n",
    "nombre_mots = len(s.split())\n",
    "print(\"Le nombre de mots de cette chaine est :\", nombre_mots)"
   ]
  },
  {
   "cell_type": "markdown",
   "id": "699e563b",
   "metadata": {},
   "source": [
    "## Exercice 40"
   ]
  },
  {
   "cell_type": "code",
   "execution_count": 148,
   "id": "b4fbb888",
   "metadata": {},
   "outputs": [
    {
     "name": "stdout",
     "output_type": "stream",
     "text": [
      "Saisir une chaine : Je veux dormir\n",
      "La chaine obtenue avec le premier et le dernier mot échangés est : dormir veux Je\n"
     ]
    }
   ],
   "source": [
    "s = input(\"Saisir une chaine : \")\n",
    "mots = s.split()\n",
    "mots[0], mots[-1] = mots[-1], mots[0]\n",
    "s_final = ' '.join(mots)\n",
    "print(\"La chaine obtenue avec le premier et le dernier mot échangés est :\", s_final)"
   ]
  },
  {
   "cell_type": "markdown",
   "id": "f72e8bd1",
   "metadata": {},
   "source": [
    "## Exercice 41"
   ]
  },
  {
   "cell_type": "code",
   "execution_count": 213,
   "id": "5ac665cc",
   "metadata": {},
   "outputs": [
    {
     "name": "stdout",
     "output_type": "stream",
     "text": [
      "Saisir un nombre entier : -2\n",
      "Saisir un nombre entier positif\n",
      "Saisir un nombre entier : 2\n",
      "Combien d'éléments compte la liste ? -1\n",
      "Saisir un nombre entier positif\n",
      "Saisir un nombre entier : 2\n",
      "Combien d'éléments compte la liste ? 1\n",
      "Entrez un nombre : 4\n",
      "Le nombre d'éléments divisibles par '2' est :  1\n"
     ]
    }
   ],
   "source": [
    "def nombreDivisibles():\n",
    "    liste=[]\n",
    "    while True:\n",
    "        try:\n",
    "            n=int(input(\"Saisir un nombre entier : \"))\n",
    "            if n>=0:\n",
    "                b = int(input(\"Combien d'éléments compte la liste ? \"))\n",
    "                if b>=0:\n",
    "                    for i in range(b):\n",
    "                        element = float((input(\"Entrez un nombre : \")))\n",
    "                        liste.append(element)\n",
    "                    break\n",
    "                else:\n",
    "                    print(\"Saisir un nombre entier positif\")\n",
    "            else:\n",
    "                print(\"Saisir un nombre entier positif\")\n",
    "        except ValueError:\n",
    "            print (\"Entrez une saisie valide\")\n",
    "\n",
    "    print (f\"Le nombre d'éléments divisibles par '{n}' est : \", sum(1 for x in liste if x % n == 0))\n",
    "\n",
    "nombreDivisibles()"
   ]
  },
  {
   "cell_type": "markdown",
   "id": "0e34596e",
   "metadata": {},
   "source": [
    "## Exercice 42"
   ]
  },
  {
   "cell_type": "code",
   "execution_count": 166,
   "id": "7e03b089",
   "metadata": {},
   "outputs": [
    {
     "name": "stdout",
     "output_type": "stream",
     "text": [
      "Saisir un paramètre de recherche : je\n",
      "Combien d'éléments compte la liste ? 4\n",
      "Entrez un élément : 9\n",
      "Entrez un élément : JE\n",
      "Entrez un élément : je\n",
      "Entrez un élément : JE SUIS\n",
      "Le nombre d'occurences du paramètre 'je' est :  2\n"
     ]
    }
   ],
   "source": [
    "def nombreOccurences():\n",
    "    L=[]\n",
    "    while True:\n",
    "        try:\n",
    "            x=input(\"Saisir un paramètre de recherche : \")\n",
    "            b = int(input(\"Combien d'éléments compte la liste ? \"))\n",
    "            if b>=0:\n",
    "                for i in range(b):\n",
    "                    element = (input(\"Entrez un élément : \"))\n",
    "                    L.append(element.lower())\n",
    "                break\n",
    "            else:\n",
    "                print(\"Saisir un nombre entier positif\")\n",
    "        except ValueError:\n",
    "            print (\"Entrez une saisie valide\")\n",
    "\n",
    "    print(f\"Le nombre d'occurences du paramètre '{x}' est : \", sum(1 for i in L if i == x))\n",
    "\n",
    "nombreOccurences()"
   ]
  },
  {
   "cell_type": "markdown",
   "id": "00e8ffee",
   "metadata": {},
   "source": [
    "## Exercice 43"
   ]
  },
  {
   "cell_type": "code",
   "execution_count": 167,
   "id": "8dbb6f70",
   "metadata": {},
   "outputs": [
    {
     "name": "stdout",
     "output_type": "stream",
     "text": [
      "Saisir une chaine : python\n",
      "La nouvelle chaine formée est :  p*y*t*h*o*n\n"
     ]
    }
   ],
   "source": [
    "def InsertEtoile():\n",
    "    s=input(\"Saisir une chaine : \")\n",
    "    print (\"La nouvelle chaine formée est : \", '*'.join(s))\n",
    "\n",
    "InsertEtoile()"
   ]
  },
  {
   "cell_type": "markdown",
   "id": "6dde41ab",
   "metadata": {},
   "source": [
    "## Exercice 44"
   ]
  },
  {
   "cell_type": "code",
   "execution_count": 169,
   "id": "acea74a7",
   "metadata": {},
   "outputs": [
    {
     "name": "stdout",
     "output_type": "stream",
     "text": [
      "Combien d'éléments compte la liste ? 2\n",
      "Entrez un élément : je\n",
      "Entrez un élément : suis\n",
      "La nouvelle liste est :  ['JE', 'SUIS']\n"
     ]
    }
   ],
   "source": [
    "def toutEnMajuscule():\n",
    "    L=[]\n",
    "    while True:\n",
    "        try:\n",
    "            b = int(input(\"Combien d'éléments compte la liste ? \"))\n",
    "            if b>=0:\n",
    "                for i in range(b):\n",
    "                    element = (input(\"Entrez un élément : \"))\n",
    "                    L.append(element.lower())\n",
    "                break\n",
    "            else:\n",
    "                print(\"Saisir un nombre entier positif\")\n",
    "        except ValueError:\n",
    "            print (\"Entrez une saisie valide\")\n",
    "    print (\"La nouvelle liste est : \", [mot.upper() for mot in L])\n",
    "\n",
    "toutEnMajuscule()"
   ]
  },
  {
   "cell_type": "markdown",
   "id": "f611e581",
   "metadata": {},
   "source": [
    "## Exercice 45"
   ]
  },
  {
   "cell_type": "code",
   "execution_count": 170,
   "id": "38b5dc54",
   "metadata": {},
   "outputs": [
    {
     "name": "stdout",
     "output_type": "stream",
     "text": [
      "Le nombre de majuscules dans cette chaine est :  5 et le nombre de minuscules :  9\n"
     ]
    }
   ],
   "source": [
    "def Compter_Maj_Min(s):\n",
    "    nb_majuscules = sum(1 for c in s if c.isupper())\n",
    "    nb_minuscules = sum(1 for c in s if c.islower())\n",
    "    print (\"Le nombre de majuscules dans cette chaine est : \", nb_majuscules, \"et le nombre de minuscules : \", nb_minuscules)\n",
    "\n",
    "# Exemple\n",
    "Compter_Maj_Min(\"Python fait TOUT\")"
   ]
  },
  {
   "cell_type": "markdown",
   "id": "c1fb8451",
   "metadata": {},
   "source": [
    "## Exercice 46"
   ]
  },
  {
   "cell_type": "code",
   "execution_count": 223,
   "id": "8ef3eea8",
   "metadata": {},
   "outputs": [
    {
     "name": "stdout",
     "output_type": "stream",
     "text": [
      "Saisir un nombre : -20\n",
      "Le nombre doit etre positif\n",
      "Saisir un nombre : 1056\n",
      "[1, 0, 5, 6]\n"
     ]
    }
   ],
   "source": [
    "def afficher_chiffres():\n",
    "    chiffres=[]\n",
    "    while True:\n",
    "        try:\n",
    "            n=int(input(\"Saisir un nombre : \"))\n",
    "            if n>0:\n",
    "                break\n",
    "            else:\n",
    "                print(\"Le nombre doit etre positif\")\n",
    "            \n",
    "        except ValueError:\n",
    "            print (\"Entrez une saisie valide\")\n",
    "    puissance=1\n",
    "    while n//puissance>=10 :\n",
    "        puissance*=10\n",
    "    while puissance>0:\n",
    "        chiffre=n//puissance\n",
    "        chiffres.append(chiffre)\n",
    "        n-=chiffre*puissance\n",
    "        puissance//=10\n",
    "    print(chiffres)\n",
    "    \n",
    "# Exemple\n",
    "afficher_chiffres()"
   ]
  },
  {
   "cell_type": "markdown",
   "id": "6186bb93",
   "metadata": {},
   "source": [
    "## Exercice 47"
   ]
  },
  {
   "cell_type": "code",
   "execution_count": 113,
   "id": "9f13ecc4",
   "metadata": {},
   "outputs": [
    {
     "name": "stdout",
     "output_type": "stream",
     "text": [
      "Entrer le premier texte : Je mange\n",
      "Entrer le second texte : je joue\n",
      "La liste des mots communs est :  ['je']\n"
     ]
    }
   ],
   "source": [
    "texte1=input(\"Entrer le premier texte : \")\n",
    "texte2=input(\"Entrer le second texte : \")\n",
    "mots_communs=[]\n",
    "\n",
    "if set(texte1)&set(texte2):\n",
    "    mots1=set(texte1.lower().split())\n",
    "    mots2=set(texte2.lower().split())\n",
    "    mots_communs=list(mots1 & mots2)\n",
    "    print(\"La liste des mots communs est : \", mots_communs)\n",
    "else:\n",
    "    print(\"Les 2 textes n'ont aucun mot commun\")"
   ]
  },
  {
   "cell_type": "code",
   "execution_count": null,
   "id": "64b957f8",
   "metadata": {},
   "outputs": [],
   "source": []
  }
 ],
 "metadata": {
  "kernelspec": {
   "display_name": "Python 3 (ipykernel)",
   "language": "python",
   "name": "python3"
  },
  "language_info": {
   "codemirror_mode": {
    "name": "ipython",
    "version": 3
   },
   "file_extension": ".py",
   "mimetype": "text/x-python",
   "name": "python",
   "nbconvert_exporter": "python",
   "pygments_lexer": "ipython3",
   "version": "3.10.9"
  }
 },
 "nbformat": 4,
 "nbformat_minor": 5
}
